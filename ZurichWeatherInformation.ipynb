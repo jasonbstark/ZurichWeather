{
 "cells": [
  {
   "cell_type": "code",
   "execution_count": 1,
   "metadata": {
    "collapsed": true
   },
   "outputs": [],
   "source": [
    "# imports\n",
    "import ftplib\n",
    "import gzip\n",
    "import string\n",
    "import os\n",
    "import csv\n",
    "import math"
   ]
  },
  {
   "cell_type": "code",
   "execution_count": 2,
   "metadata": {
    "collapsed": false
   },
   "outputs": [],
   "source": [
    "# local path (make directories 'ZurichWeather/data' in home directory, if not already existing)\n",
    "homePath = os.path.expanduser(\"~\")\n",
    "localPath = homePath + '/ZurichWeather/'\n",
    "dir = os.path.dirname(localPath)\n",
    "try:\n",
    "    os.stat(dir)\n",
    "except:\n",
    "    os.mkdir(dir)\n",
    "localPath = localPath + 'data/'\n",
    "dir = os.path.dirname(localPath)\n",
    "try:\n",
    "    os.stat(dir)\n",
    "except:\n",
    "    os.mkdir(dir)"
   ]
  },
  {
   "cell_type": "code",
   "execution_count": 3,
   "metadata": {
    "collapsed": false
   },
   "outputs": [],
   "source": [
    "# ftp login\n",
    "ftpOject = ftplib.FTP('ftp.ncdc.noaa.gov')\n",
    "ftpOject.login()\n",
    "filePath = '/pub/data/gsod/'"
   ]
  },
  {
   "cell_type": "code",
   "execution_count": 4,
   "metadata": {
    "collapsed": false
   },
   "outputs": [
    {
     "name": "stdout",
     "output_type": "stream",
     "text": [
      "['550', '/pub/data/gsod/1972/066700-99999-1972.op.gz: No such file or directory']\n",
      "['550', '/pub/data/gsod/1971/066700-99999-1971.op.gz: No such file or directory']\n",
      "['550', '/pub/data/gsod/1970/066700-99999-1970.op.gz: No such file or directory']\n"
     ]
    }
   ],
   "source": [
    "# pull down compressed weather data, uncompress, and write into CSV files\n",
    "for year in range(2015,1954,-1):\n",
    "    filePathFull = filePath + str(year) +'/'\n",
    "    fileName = '066700-99999-' + str(year) + '.op.gz'\n",
    "    fileNameFull = localPath + fileName\n",
    "    ftpCmd = 'RETR ' + filePathFull + fileName\n",
    "    try:\n",
    "        ftpOject.retrbinary(ftpCmd, open(fileNameFull, 'wb').write)\n",
    "        gzFile = gzip.open(fileNameFull, 'rb')\n",
    "        header = gzFile.readline()\n",
    "        fileNameText = fileNameFull[:len(fileNameFull)-2] + 'csv'\n",
    "        txtFile = open(fileNameText,'w')\n",
    "        header = ['station', 'wban', 'yearmoda', 'temp', 'tempNum', 'dewp', 'dewpNum', 'slp', 'slpNum', 'stp', 'stpNum', 'visib', 'visibNum', 'wdsp', 'wdspNum', 'mxspd', 'gust', 'max', 'min', 'prcp', 'sndp', 'frshtt']\n",
    "        CSVWriter = csv.writer(txtFile, delimiter=',')\n",
    "        CSVWriter.writerow(header)\n",
    "        for line in gzFile:\n",
    "            lineString = line.decode(\"utf-8\")\n",
    "            shortString = lineString.replace('  ',' ')\n",
    "            shortString = shortString.replace('  ',' ')\n",
    "            CSVWriter.writerow(shortString.split())\n",
    "    except ftplib.all_errors as e:\n",
    "        errorcode_string = str(e).split(None, 1)\n",
    "        print(errorcode_string)"
   ]
  },
  {
   "cell_type": "code",
   "execution_count": 5,
   "metadata": {
    "collapsed": false
   },
   "outputs": [],
   "source": [
    "# read contents of all CSV files into list, 'weatherData', containing all weather data\n",
    "weatherData = list()\n",
    "for CSVFile in os.scandir(localPath):\n",
    "    if not CSVFile.name.startswith('.') and CSVFile.is_file() and CSVFile.name.endswith('.csv'):\n",
    "        inputCSVFile = open(localPath + CSVFile.name,encoding='utf-8', mode='r')\n",
    "        CSVReader = csv.DictReader(inputCSVFile)\n",
    "        for inputRow in CSVReader:\n",
    "            year = inputRow['yearmoda'][0:4]\n",
    "            month = inputRow['yearmoda'][4:6]\n",
    "            day = inputRow['yearmoda'][6:8]\n",
    "            del inputRow['yearmoda']\n",
    "            inputRow['year'] = str(year)\n",
    "            inputRow['month'] = str(month)\n",
    "            inputRow['day'] = str(day)\n",
    "            if CSVReader.line_num > 1:\n",
    "                weatherData.append(inputRow)"
   ]
  },
  {
   "cell_type": "code",
   "execution_count": 6,
   "metadata": {
    "collapsed": true
   },
   "outputs": [],
   "source": [
    "# select values of 'key2' from inList, when 'key1' has value 'value1', and sort output list\n",
    "def selectElements(inList,key1,value1,key2):\n",
    "    outList = list()\n",
    "    for listItem in inList:\n",
    "        if listItem[key1] == value1:\n",
    "            outList.append(listItem[key2])\n",
    "    return sorted(outList)"
   ]
  },
  {
   "cell_type": "code",
   "execution_count": 7,
   "metadata": {
    "collapsed": true
   },
   "outputs": [],
   "source": [
    "# select all values of 'key2', from list 'inList', and group into bins of size, 'binSize', centered on 0,\n",
    "# when 'key1' has value 'value1'\n",
    "def selectBinnedElements(inList,key1,value1,key2,binSize):\n",
    "    outList = list()\n",
    "    for listItem in inList:\n",
    "        if listItem[key1] == value1:\n",
    "            outList.append(listItem[key2])\n",
    "    outList = sorted(outList)\n",
    "    binnedElements = [int(round(float(outElement)/binSize,0)) * binSize for outElement in outList]\n",
    "    return sorted(binnedElements)"
   ]
  },
  {
   "cell_type": "code",
   "execution_count": 8,
   "metadata": {
    "collapsed": true
   },
   "outputs": [],
   "source": [
    "# produce list of '[bin, frequency]' pairs, from list 'inList', when 'key1' has value 'value1', \n",
    "# where 'bin' is the binned value of 'key2',\n",
    "# and 'frequency' is the number of times the bin is observed in the list, 'inList'\n",
    "def selectWeightedElements(inList,key1,value1,key2,binSize):\n",
    "    midList = selectBinnedElements(inList,key1,value1,key2,binSize)\n",
    "    outList = [[x,midList.count(x)] for x in set(midList)]\n",
    "    return outList"
   ]
  },
  {
   "cell_type": "code",
   "execution_count": 9,
   "metadata": {
    "collapsed": true
   },
   "outputs": [],
   "source": [
    "# calculate the entropy of list, 'inList', of '[bin, frequency]' pairs\n",
    "def entropy(inList):\n",
    "    sum = 0.\n",
    "    for pair in inList:\n",
    "        sum = sum + pair[1]\n",
    "    info = 0.\n",
    "    for pair in inList:\n",
    "        p = pair[1] / sum\n",
    "        info = info - p * math.log(p,2)\n",
    "    return info"
   ]
  },
  {
   "cell_type": "code",
   "execution_count": 10,
   "metadata": {
    "collapsed": false
   },
   "outputs": [],
   "source": [
    "# calculate average entropy when 'key1' takes on values in range 'valueRange', \n",
    "# and values of 'key2' are binned by 'binSize'\n",
    "def avgEntropy(inList,key1,valueRange,key2,binSize):\n",
    "    avg = 0.\n",
    "    count = 0\n",
    "    for value in valueRange:\n",
    "        valueStr = str(value).zfill(2)\n",
    "        entropyValue = entropy(selectWeightedElements(inList,key1,valueStr,key2,binSize))\n",
    "        avg = avg + entropyValue\n",
    "        if entropyValue > 0:\n",
    "            count = count + 1\n",
    "    return avg / count"
   ]
  },
  {
   "cell_type": "code",
   "execution_count": 11,
   "metadata": {
    "collapsed": true
   },
   "outputs": [],
   "source": [
    "# select all values of 'key2', from list 'inList', and group into bins of size, 'binSize'\n",
    "def binnedElements(inList,key2,binSize):\n",
    "    outList = list()\n",
    "    for listItem in inList:\n",
    "        outList.append(listItem[key2])\n",
    "    outList = sorted(outList)\n",
    "    binnedElements = [int(round(float(outElement)/binSize,0)) * binSize for outElement in outList]\n",
    "    return sorted(binnedElements)"
   ]
  },
  {
   "cell_type": "code",
   "execution_count": 12,
   "metadata": {
    "collapsed": false
   },
   "outputs": [],
   "source": [
    "# produce list of '[bin, frequency]' pairs, from list 'inList', where 'bin' is the binned value of 'key2',\n",
    "# and 'frequency' is the number of times the bin is observed in the list, 'inList'\n",
    "def weightedElements(inList,key2,binSize):\n",
    "    midList = binnedElements(inList,key2,binSize)\n",
    "    outList = [[x,midList.count(x)] for x in set(midList)]\n",
    "    return outList"
   ]
  },
  {
   "cell_type": "code",
   "execution_count": 13,
   "metadata": {
    "collapsed": false
   },
   "outputs": [],
   "source": [
    "# calculate the total entropy in list, 'inList', when values of 'key2' are binned into bins of size, 'binSize'\n",
    "def totalEntropy(inList,key2,binSize):\n",
    "    return entropy(weightedElements(inList,key2,binSize))"
   ]
  },
  {
   "cell_type": "code",
   "execution_count": 14,
   "metadata": {
    "collapsed": true
   },
   "outputs": [],
   "source": [
    "# calculate the average information, which is the difference between total entropy and average entropy, \n",
    "# when 'key1' takes on values in range 'valueRange', and values of 'key2' are binned by 'binSize'\n",
    "def avgInfo(inList,key1,valueRange,key2,binSize):\n",
    "    return totalEntropy(inList,key2,binSize) - avgEntropy(inList,key1,valueRange,key2,binSize)"
   ]
  },
  {
   "cell_type": "code",
   "execution_count": 21,
   "metadata": {
    "collapsed": false
   },
   "outputs": [
    {
     "data": {
      "text/plain": [
       "[[2, 1],\n",
       " [3, 4],\n",
       " [4, 2],\n",
       " [5, 2],\n",
       " [6, 3],\n",
       " [7, 2],\n",
       " [8, 3],\n",
       " [9, 3],\n",
       " [10, 1],\n",
       " [11, 3],\n",
       " [12, 11],\n",
       " [13, 8],\n",
       " [14, 7],\n",
       " [15, 9],\n",
       " [16, 9],\n",
       " [17, 6],\n",
       " [18, 22],\n",
       " [19, 17],\n",
       " [20, 24],\n",
       " [21, 23],\n",
       " [22, 30],\n",
       " [23, 26],\n",
       " [24, 40],\n",
       " [25, 48],\n",
       " [26, 52],\n",
       " [27, 60],\n",
       " [28, 83],\n",
       " [29, 79],\n",
       " [30, 88],\n",
       " [31, 71],\n",
       " [32, 104],\n",
       " [33, 92],\n",
       " [34, 141],\n",
       " [35, 85],\n",
       " [36, 118],\n",
       " [37, 70],\n",
       " [38, 72],\n",
       " [39, 47],\n",
       " [40, 70],\n",
       " [41, 34],\n",
       " [42, 47],\n",
       " [43, 31],\n",
       " [44, 28],\n",
       " [45, 18],\n",
       " [46, 20],\n",
       " [47, 16],\n",
       " [48, 12],\n",
       " [49, 6],\n",
       " [50, 6],\n",
       " [51, 5],\n",
       " [52, 3],\n",
       " [55, 1],\n",
       " [56, 1],\n",
       " [-4, 1],\n",
       " [-3, 1]]"
      ]
     },
     "execution_count": 21,
     "metadata": {},
     "output_type": "execute_result"
    }
   ],
   "source": [
    "# calculate the pairs '[temperature, count]', for all entries in month '01', from 1955 through 2015\n",
    "# 1 day had average temperature 2degreesF, 4 days had average temperature 3degreesF, etc.\n",
    "selectWeightedElements(weatherData,'month','01','temp',1)"
   ]
  },
  {
   "cell_type": "code",
   "execution_count": 22,
   "metadata": {
    "collapsed": false
   },
   "outputs": [
    {
     "data": {
      "text/plain": [
       "4.973962828825725"
      ]
     },
     "execution_count": 22,
     "metadata": {},
     "output_type": "execute_result"
    }
   ],
   "source": [
    "# the entropy in this list is slightly less than 5 bits\n",
    "entropy(selectWeightedElements(weatherData,'month','01','temp',1))"
   ]
  },
  {
   "cell_type": "code",
   "execution_count": 15,
   "metadata": {
    "collapsed": false
   },
   "outputs": [
    {
     "data": {
      "text/plain": [
       "0.07426720551416821"
      ]
     },
     "execution_count": 15,
     "metadata": {},
     "output_type": "execute_result"
    }
   ],
   "source": [
    "# the average information gained about the average daily temperature, with a resolution (bin) of 1 degree, \n",
    "# by knowing the day of month, is less than 0.1 bit\n",
    "avgInfo(weatherData,'day',range(1, 32),'temp',1)"
   ]
  },
  {
   "cell_type": "code",
   "execution_count": 16,
   "metadata": {
    "collapsed": false
   },
   "outputs": [
    {
     "data": {
      "text/plain": [
       "1.0090716183731745"
      ]
     },
     "execution_count": 16,
     "metadata": {},
     "output_type": "execute_result"
    }
   ],
   "source": [
    "# the average information gained about the average daily temperature, with a resolution (bin) of 1 degree, \n",
    "# by knowing the month, is 1.0 bit\n",
    "avgInfo(weatherData,'month',range(1, 13),'temp',1)"
   ]
  },
  {
   "cell_type": "code",
   "execution_count": 17,
   "metadata": {
    "collapsed": false
   },
   "outputs": [
    {
     "data": {
      "text/plain": [
       "0.20249583423455242"
      ]
     },
     "execution_count": 17,
     "metadata": {},
     "output_type": "execute_result"
    }
   ],
   "source": [
    "# the average information gained about the average daily temperature, with a resolution (bin) of 1 degree, \n",
    "# by knowing the year, is 0.2 bit\n",
    "avgInfo(weatherData,'year',range(1955, 2016),'temp',1)"
   ]
  },
  {
   "cell_type": "code",
   "execution_count": 23,
   "metadata": {
    "collapsed": false
   },
   "outputs": [
    {
     "data": {
      "text/plain": [
       "{'day': '01',\n",
       " 'dewp': '19.6',\n",
       " 'dewpNum': '8',\n",
       " 'frshtt': '001000',\n",
       " 'gust': '999.9',\n",
       " 'max': '32.0',\n",
       " 'min': '27.0*',\n",
       " 'month': '01',\n",
       " 'mxspd': '15.9',\n",
       " 'prcp': '99.99',\n",
       " 'slp': '1025.1',\n",
       " 'slpNum': '8',\n",
       " 'sndp': '999.9',\n",
       " 'station': '066700',\n",
       " 'stp': '9999.9',\n",
       " 'stpNum': '0',\n",
       " 'temp': '28.4',\n",
       " 'tempNum': '8',\n",
       " 'visib': '7.6',\n",
       " 'visibNum': '8',\n",
       " 'wban': '99999',\n",
       " 'wdsp': '11.6',\n",
       " 'wdspNum': '8',\n",
       " 'year': '1955'}"
      ]
     },
     "execution_count": 23,
     "metadata": {},
     "output_type": "execute_result"
    }
   ],
   "source": [
    "weatherData[0]"
   ]
  },
  {
   "cell_type": "code",
   "execution_count": 34,
   "metadata": {
    "collapsed": false
   },
   "outputs": [
    {
     "name": "stdout",
     "output_type": "stream",
     "text": [
      "31\n",
      "30\n",
      "30\n",
      "30\n",
      "30\n",
      "30\n",
      "30\n",
      "30\n",
      "30\n",
      "30\n",
      "30\n",
      "30\n",
      "30\n",
      "30\n",
      "30\n",
      "30\n",
      "30\n",
      "30\n",
      "30\n",
      "30\n",
      "30\n",
      "30\n",
      "30\n",
      "30\n",
      "30\n",
      "30\n",
      "30\n",
      "30\n",
      "30\n",
      "30\n",
      "30\n",
      "30\n",
      "30\n",
      "30\n",
      "30\n",
      "30\n",
      "30\n",
      "30\n",
      "30\n",
      "30\n",
      "29\n",
      "30\n",
      "30\n",
      "30\n",
      "30\n",
      "30\n",
      "30\n",
      "30\n",
      "30\n",
      "30\n",
      "30\n",
      "30\n",
      "30\n",
      "30\n",
      "30\n",
      "30\n",
      "56\n",
      "1710\n"
     ]
    }
   ],
   "source": [
    "janDays = 0\n",
    "janMonths = 0\n",
    "totDays = 0\n",
    "oldYear = '1955'\n",
    "for weatherDict in weatherData:\n",
    "    if weatherDict['month'] == '01':\n",
    "        newYear = weatherDict['year']\n",
    "        if newYear == oldYear:\n",
    "            janDays = janDays + 1\n",
    "            totDays = totDays + 1\n",
    "        else:\n",
    "            print(janDays)\n",
    "            janDays = 0\n",
    "            janMonths = janMonths + 1\n",
    "        oldYear = newYear\n",
    "print(janMonths)\n",
    "print(totDays)"
   ]
  },
  {
   "cell_type": "code",
   "execution_count": 33,
   "metadata": {
    "collapsed": false
   },
   "outputs": [
    {
     "data": {
      "text/plain": [
       "1680"
      ]
     },
     "execution_count": 33,
     "metadata": {},
     "output_type": "execute_result"
    }
   ],
   "source": [
    "56*30"
   ]
  },
  {
   "cell_type": "code",
   "execution_count": null,
   "metadata": {
    "collapsed": true
   },
   "outputs": [],
   "source": []
  }
 ],
 "metadata": {
  "anaconda-cloud": {},
  "kernelspec": {
   "display_name": "Python [Root]",
   "language": "python",
   "name": "Python [Root]"
  },
  "language_info": {
   "codemirror_mode": {
    "name": "ipython",
    "version": 3
   },
   "file_extension": ".py",
   "mimetype": "text/x-python",
   "name": "python",
   "nbconvert_exporter": "python",
   "pygments_lexer": "ipython3",
   "version": "3.5.2"
  }
 },
 "nbformat": 4,
 "nbformat_minor": 0
}
