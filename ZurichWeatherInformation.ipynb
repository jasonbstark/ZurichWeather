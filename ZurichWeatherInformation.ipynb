{
 "cells": [
  {
   "cell_type": "code",
   "execution_count": 1,
   "metadata": {
    "collapsed": true
   },
   "outputs": [],
   "source": [
    "# imports\n",
    "from ftplib import FTP\n",
    "import gzip\n",
    "import string\n",
    "import os\n",
    "import csv\n",
    "from collections import Counter\n",
    "import math"
   ]
  },
  {
   "cell_type": "code",
   "execution_count": 2,
   "metadata": {
    "collapsed": false
   },
   "outputs": [],
   "source": [
    "# local path (make directory 'ZurichWeather' in home directory, if not already existing)\n",
    "homePath = os.path.expanduser(\"~\")\n",
    "localPath = homePath + '/ZurichWeather/'\n",
    "dir = os.path.dirname(localPath)\n",
    "try:\n",
    "    os.stat(dir)\n",
    "except:\n",
    "    os.mkdir(dir)\n",
    "localPath = localPath + 'data/'\n",
    "dir = os.path.dirname(localPath)\n",
    "try:\n",
    "    os.stat(dir)\n",
    "except:\n",
    "    os.mkdir(dir)"
   ]
  },
  {
   "cell_type": "code",
   "execution_count": 3,
   "metadata": {
    "collapsed": false
   },
   "outputs": [],
   "source": [
    "# ftp login\n",
    "ftpOject = FTP('ftp.ncdc.noaa.gov')\n",
    "ftpOject.login()\n",
    "filePath = '/pub/data/gsod/'"
   ]
  },
  {
   "cell_type": "code",
   "execution_count": 4,
   "metadata": {
    "collapsed": false
   },
   "outputs": [],
   "source": [
    "# pull down compressed weather data, uncompress, and write into CSV files\n",
    "for year in range(2015,1972,-1):\n",
    "    filePathFull = filePath + str(year) +'/'\n",
    "    fileName = '066700-99999-' + str(year) + '.op.gz'\n",
    "    fileNameFull = localPath + fileName\n",
    "    ftpCmd = 'RETR ' + filePathFull + fileName\n",
    "    ftpOject.retrbinary(ftpCmd, open(fileNameFull, 'wb').write)\n",
    "    gzFile = gzip.open(fileNameFull, 'rb')\n",
    "    header = gzFile.readline()\n",
    "    fileNameText = fileNameFull[:len(fileNameFull)-2] + 'csv'\n",
    "    # print(fileNameText)\n",
    "    txtFile = open(fileNameText,'w')\n",
    "    header = ['station', 'wban', 'yearmoda', 'temp', 'tempNum', 'dewp', 'dewpNum', 'slp', 'slpNum', 'stp', 'stpNum', 'visib', 'visibNum', 'wdsp', 'wdspNum', 'mxspd', 'gust', 'max', 'min', 'prcp', 'sndp', 'frshtt']\n",
    "    CSVWriter = csv.writer(txtFile, delimiter=',')\n",
    "    CSVWriter.writerow(header)\n",
    "    for line in gzFile:\n",
    "        lineString = line.decode(\"utf-8\")\n",
    "        shortString = lineString.replace('  ',' ')\n",
    "        shortString = shortString.replace('  ',' ')\n",
    "        CSVWriter.writerow(shortString.split())"
   ]
  },
  {
   "cell_type": "code",
   "execution_count": 5,
   "metadata": {
    "collapsed": false
   },
   "outputs": [],
   "source": [
    "# read contents of all CSV files into list, 'weatherData', containing all weather data\n",
    "weatherData = list()\n",
    "for CSVFile in os.scandir(localPath):\n",
    "    if not CSVFile.name.startswith('.') and CSVFile.is_file() and CSVFile.name.endswith('.csv'):\n",
    "        inputCSVFile = open(localPath + CSVFile.name,encoding='utf-8', mode='r')\n",
    "        CSVReader = csv.DictReader(inputCSVFile)\n",
    "        for inputRow in CSVReader:\n",
    "            year = inputRow['yearmoda'][0:4]\n",
    "            month = inputRow['yearmoda'][4:6]\n",
    "            day = inputRow['yearmoda'][6:8]\n",
    "            del inputRow['yearmoda']\n",
    "            inputRow['year'] = str(year)\n",
    "            inputRow['month'] = str(month)\n",
    "            inputRow['day'] = str(day)\n",
    "            # print(inputRow)\n",
    "            if CSVReader.line_num > 1:\n",
    "                weatherData.append(inputRow)"
   ]
  },
  {
   "cell_type": "code",
   "execution_count": 6,
   "metadata": {
    "collapsed": true
   },
   "outputs": [],
   "source": [
    "# select values of 'key2' from inList, when 'key1' has value 'value1'\n",
    "def selectElements(inList,key1,value1,key2):\n",
    "    outList = list()\n",
    "    for listItem in inList:\n",
    "        if listItem[key1] == value1:\n",
    "            # print(listItem)\n",
    "            outList.append(listItem[key2])\n",
    "    return sorted(outList)"
   ]
  },
  {
   "cell_type": "code",
   "execution_count": 7,
   "metadata": {
    "collapsed": true
   },
   "outputs": [],
   "source": [
    "# select all values of 'key2', from list 'inList', and group into bins of size, 'binSize', \n",
    "# when 'key1' has value 'value1'\n",
    "def selectBinnedElements(inList,key1,value1,key2,binSize):\n",
    "    outList = list()\n",
    "    for listItem in inList:\n",
    "        if listItem[key1] == value1:\n",
    "            # print(listItem)\n",
    "            outList.append(listItem[key2])\n",
    "    outList = sorted(outList)\n",
    "    binnedElements = [int(round(float(outElement)/binSize,0)) * binSize for outElement in outList]\n",
    "    return sorted(binnedElements)"
   ]
  },
  {
   "cell_type": "code",
   "execution_count": 8,
   "metadata": {
    "collapsed": true
   },
   "outputs": [],
   "source": [
    "# produce list of '[bin, frequency]' pairs, from list 'inList', when 'key1' has value 'value1', \n",
    "# where 'bin' is the binned value of 'key2',\n",
    "# and 'frequency' is the number of times the bin is observed in the weather data list, 'inList'\n",
    "def selectWeightedElements(inList,key1,value1,key2,binSize):\n",
    "    midList = selectBinnedElements(inList,key1,value1,key2,binSize)\n",
    "    outList = [[x,midList.count(x)] for x in set(midList)]\n",
    "    return outList"
   ]
  },
  {
   "cell_type": "code",
   "execution_count": 9,
   "metadata": {
    "collapsed": true
   },
   "outputs": [],
   "source": [
    "# calculate the entropy of list, 'inList', of '[bin, frequency]' pairs\n",
    "def entropy(inList):\n",
    "    sum = 0.\n",
    "    for pair in inList:\n",
    "        sum = sum + pair[1]\n",
    "    info = 0.\n",
    "    for pair in inList:\n",
    "        p = pair[1] / sum\n",
    "        info = info - p * math.log(p,2)\n",
    "    return info"
   ]
  },
  {
   "cell_type": "code",
   "execution_count": 10,
   "metadata": {
    "collapsed": false
   },
   "outputs": [],
   "source": [
    "# calculate average entropy when 'key1' takes on values in range 'valueRange', \n",
    "# where values of 'key2' are binned by 'binSize'\n",
    "def avgEntropy(inList,key1,valueRange,key2,binSize):\n",
    "    avg = 0.\n",
    "    for value in valueRange:\n",
    "        valueStr = str(value).zfill(2)\n",
    "        avg = avg + entropy(selectWeightedElements(inList,key1,valueStr,key2,binSize))\n",
    "    return avg / len(valueRange)"
   ]
  },
  {
   "cell_type": "code",
   "execution_count": 11,
   "metadata": {
    "collapsed": true
   },
   "outputs": [],
   "source": [
    "# select all values of 'key2', from list 'inList', and group into bins of size, 'binSize'\n",
    "def binnedElements(inList,key2,binSize):\n",
    "    outList = list()\n",
    "    for listItem in inList:\n",
    "        outList.append(listItem[key2])\n",
    "    outList = sorted(outList)\n",
    "    binnedElements = [int(round(float(outElement)/binSize,0)) * binSize for outElement in outList]\n",
    "    return sorted(binnedElements)"
   ]
  },
  {
   "cell_type": "code",
   "execution_count": 12,
   "metadata": {
    "collapsed": false
   },
   "outputs": [],
   "source": [
    "# produce list of '[bin, frequency]' pairs, from list 'inList', where 'bin' is the binned value of 'key2',\n",
    "# and 'frequency' is the number of times the bin is observed in the weather data list, 'inList'\n",
    "def weightedElements(inList,key2,binSize):\n",
    "    midList = binnedElements(inList,key2,binSize)\n",
    "    outList = [[x,midList.count(x)] for x in set(midList)]\n",
    "    return outList"
   ]
  },
  {
   "cell_type": "code",
   "execution_count": 13,
   "metadata": {
    "collapsed": false
   },
   "outputs": [],
   "source": [
    "# calculate the total entropy in list, 'inList', when values of 'key2' are binned into bins of size, 'binSize'\n",
    "def totalEntropy(inList,key2,binSize):\n",
    "    return entropy(weightedElements(inList,key2,binSize))"
   ]
  },
  {
   "cell_type": "code",
   "execution_count": 14,
   "metadata": {
    "collapsed": true
   },
   "outputs": [],
   "source": [
    "# calculate the average information, which is the difference between total entropy and average entropy, \n",
    "# when 'key1' takes on values in range 'valueRange', and values of 'key2' are binned by 'binSize'\n",
    "def avgInfo(inList,key1,valueRange,key2,binSize):\n",
    "    return totalEntropy(inList,key2,binSize) - avgEntropy(inList,key1,valueRange,key2,binSize)"
   ]
  },
  {
   "cell_type": "code",
   "execution_count": 15,
   "metadata": {
    "collapsed": false
   },
   "outputs": [
    {
     "data": {
      "text/plain": [
       "0.09330545022148495"
      ]
     },
     "execution_count": 15,
     "metadata": {},
     "output_type": "execute_result"
    }
   ],
   "source": [
    "# the average information gained about the average daily temperature, by knowing the day of the month, is 0.1 bit\n",
    "avgInfo(weatherData,'day',range(1, 32),'temp',1)"
   ]
  },
  {
   "cell_type": "code",
   "execution_count": 16,
   "metadata": {
    "collapsed": false
   },
   "outputs": [
    {
     "data": {
      "text/plain": [
       "1.020457267029256"
      ]
     },
     "execution_count": 16,
     "metadata": {},
     "output_type": "execute_result"
    }
   ],
   "source": [
    "# the average information gained about the average daily temperature, by knowing the month of the year, is 1.0 bit\n",
    "avgInfo(weatherData,'month',range(1, 13),'temp',1)"
   ]
  },
  {
   "cell_type": "code",
   "execution_count": 17,
   "metadata": {
    "collapsed": false
   },
   "outputs": [
    {
     "data": {
      "text/plain": [
       "0.18960866217339767"
      ]
     },
     "execution_count": 17,
     "metadata": {},
     "output_type": "execute_result"
    }
   ],
   "source": [
    "# the average information gained about the average daily temperature, by knowing the year, is 0.2 bit\n",
    "avgInfo(weatherData,'year',range(1973, 2016),'temp',1)"
   ]
  },
  {
   "cell_type": "code",
   "execution_count": null,
   "metadata": {
    "collapsed": true
   },
   "outputs": [],
   "source": []
  }
 ],
 "metadata": {
  "anaconda-cloud": {},
  "kernelspec": {
   "display_name": "Python [Root]",
   "language": "python",
   "name": "Python [Root]"
  },
  "language_info": {
   "codemirror_mode": {
    "name": "ipython",
    "version": 3
   },
   "file_extension": ".py",
   "mimetype": "text/x-python",
   "name": "python",
   "nbconvert_exporter": "python",
   "pygments_lexer": "ipython3",
   "version": "3.5.2"
  }
 },
 "nbformat": 4,
 "nbformat_minor": 0
}
